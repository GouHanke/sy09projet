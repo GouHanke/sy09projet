{
 "cells": [
  {
   "cell_type": "code",
   "execution_count": 1,
   "id": "08e9217c-1fdf-42ca-b6ad-ebd326fbaa66",
   "metadata": {},
   "outputs": [],
   "source": [
    "from sklearn.preprocessing import OneHotEncoder\n",
    "from sklearn.cluster import KMeans\n",
    "\n",
    "import pandas as pd\n",
    "from matplotlib import pyplot as plt\n",
    "import seaborn as sns\n",
    "\n"
   ]
  },
  {
   "cell_type": "code",
   "execution_count": 2,
   "id": "a8719447-60ae-48ea-b27f-e3dbe1ef2477",
   "metadata": {},
   "outputs": [],
   "source": [
    "mushroom = pd.read_csv(\"data/mushrooms.csv\")"
   ]
  },
  {
   "cell_type": "code",
   "execution_count": 11,
   "id": "2cf1acfb-a9a5-4ea3-849e-d20fdfce48bb",
   "metadata": {},
   "outputs": [],
   "source": [
    "# define independent variable and dependent variable\n",
    "var_ind = mushroom.iloc[:, 1:23]\n",
    "var_dep = mushroom.iloc[:, 0]"
   ]
  },
  {
   "cell_type": "code",
   "execution_count": 12,
   "id": "c71b3680-a40a-4f4b-bda3-63929cfcb727",
   "metadata": {},
   "outputs": [],
   "source": [
    "# creat and fit ohe model, get the independent variable after ohe\n",
    "ohe = OneHotEncoder(sparse_output=False)\n",
    "var_ohe = ohe.fit_transform(var_ind)"
   ]
  },
  {
   "cell_type": "code",
   "execution_count": 15,
   "id": "0239001f-662f-4805-a3cf-58ed13a9f405",
   "metadata": {},
   "outputs": [],
   "source": [
    "# creat and fit kmeans model\n",
    "kmeans = KMeans(n_clusters=2, init=\"k-means++\", n_init=50, random_state=20)\n",
    "kmeans.fit(var_ohe)\n",
    "# get predicted value\n",
    "labels = kmeans.labels_\n",
    "mushroom['Cluster'] = labels"
   ]
  },
  {
   "cell_type": "code",
   "execution_count": 17,
   "id": "78f2926b-e736-4dbd-9214-40eebf5a5615",
   "metadata": {
    "scrolled": true
   },
   "outputs": [
    {
     "name": "stdout",
     "output_type": "stream",
     "text": [
      "Adjusted Rand Index: 0.62\n",
      "Adjusted Mutual Information: 0.56\n",
      "V-Measure: 0.56\n"
     ]
    }
   ],
   "source": [
    "# validation by ARI, AMI, V_measure\n",
    "\n",
    "y_true = mushroom[\"class\"]\n",
    "y_pred = mushroom[\"Cluster\"]\n",
    "\n",
    "from sklearn.metrics import adjusted_rand_score, adjusted_mutual_info_score, v_measure_score\n",
    "from sklearn.metrics import confusion_matrix, classification_report\n",
    "\n",
    "ari = adjusted_rand_score(y_true, y_pred)\n",
    "ami = adjusted_mutual_info_score(y_true, y_pred)\n",
    "v_measure = v_measure_score(y_true, y_pred)\n",
    "\n",
    "print(f\"Adjusted Rand Index: {ari:.2f}\")\n",
    "print(f\"Adjusted Mutual Information: {ami:.2f}\")\n",
    "print(f\"V-Measure: {v_measure:.2f}\")"
   ]
  },
  {
   "cell_type": "code",
   "execution_count": 20,
   "id": "445f530c-d611-4b7a-b180-894008543b26",
   "metadata": {},
   "outputs": [],
   "source": [
    "result_kmean_mm = pd.crosstab(mushroom['class'], mushroom['Cluster'])"
   ]
  },
  {
   "cell_type": "code",
   "execution_count": 21,
   "id": "1c0faaf2-9ef3-45f5-afff-574856e569c0",
   "metadata": {
    "scrolled": true
   },
   "outputs": [
    {
     "data": {
      "text/html": [
       "<div>\n",
       "<style scoped>\n",
       "    .dataframe tbody tr th:only-of-type {\n",
       "        vertical-align: middle;\n",
       "    }\n",
       "\n",
       "    .dataframe tbody tr th {\n",
       "        vertical-align: top;\n",
       "    }\n",
       "\n",
       "    .dataframe thead th {\n",
       "        text-align: right;\n",
       "    }\n",
       "</style>\n",
       "<table border=\"1\" class=\"dataframe\">\n",
       "  <thead>\n",
       "    <tr style=\"text-align: right;\">\n",
       "      <th>Cluster</th>\n",
       "      <th>0</th>\n",
       "      <th>1</th>\n",
       "    </tr>\n",
       "    <tr>\n",
       "      <th>class</th>\n",
       "      <th></th>\n",
       "      <th></th>\n",
       "    </tr>\n",
       "  </thead>\n",
       "  <tbody>\n",
       "    <tr>\n",
       "      <th>e</th>\n",
       "      <td>4148</td>\n",
       "      <td>60</td>\n",
       "    </tr>\n",
       "    <tr>\n",
       "      <th>p</th>\n",
       "      <td>816</td>\n",
       "      <td>3100</td>\n",
       "    </tr>\n",
       "  </tbody>\n",
       "</table>\n",
       "</div>"
      ],
      "text/plain": [
       "Cluster     0     1\n",
       "class              \n",
       "e        4148    60\n",
       "p         816  3100"
      ]
     },
     "execution_count": 21,
     "metadata": {},
     "output_type": "execute_result"
    }
   ],
   "source": [
    "result_kmean_mm"
   ]
  },
  {
   "cell_type": "code",
   "execution_count": 26,
   "id": "3f77d72c-87d4-41a9-b97f-4cb0e2ef1e85",
   "metadata": {},
   "outputs": [
    {
     "data": {
      "text/plain": [
       "0.9853181076672104"
      ]
     },
     "execution_count": 26,
     "metadata": {},
     "output_type": "execute_result"
    }
   ],
   "source": [
    "(4148+3100)/(4196+3160)"
   ]
  },
  {
   "cell_type": "code",
   "execution_count": 32,
   "id": "f6e4692d-00b4-4aa8-b69e-63a053d8c5fb",
   "metadata": {
    "scrolled": true
   },
   "outputs": [
    {
     "data": {
      "image/png": "[encoded data removed]",
      "text/plain": [
       "<Figure size 640x480 with 2 Axes>"
      ]
     },
     "metadata": {},
     "output_type": "display_data"
    }
   ],
   "source": [
    "# validation by confusion matrix\n",
    "mushroom['class'] = mushroom['class'].replace({'p': 1, 'e': 0})\n",
    "y_true = mushroom[\"class\"]\n",
    "y_pred = mushroom[\"Cluster\"]\n",
    "\n",
    "cm = confusion_matrix(y_true, y_pred)\n",
    "sns.heatmap(cm, annot=True, fmt='d', cmap='Blues')\n",
    "plt.xlabel('Predicted Label')\n",
    "plt.ylabel('True Label')\n",
    "plt.show()"
   ]
  },
  {
   "cell_type": "code",
   "execution_count": 33,
   "id": "cf2b8033-a546-4b37-8990-54453a431a7b",
   "metadata": {},
   "outputs": [
    {
     "name": "stdout",
     "output_type": "stream",
     "text": [
      "Adjusted Rand Index: 0.62\n",
      "Adjusted Mutual Information: 0.56\n",
      "V-Measure: 0.56\n"
     ]
    }
   ],
   "source": [
    "ari = adjusted_rand_score(y_true, y_pred)\n",
    "ami = adjusted_mutual_info_score(y_true, y_pred)\n",
    "v_measure = v_measure_score(y_true, y_pred)\n",
    "\n",
    "print(f\"Adjusted Rand Index: {ari:.2f}\")\n",
    "print(f\"Adjusted Mutual Information: {ami:.2f}\")\n",
    "print(f\"V-Measure: {v_measure:.2f}\")"
   ]
  },
  {
   "cell_type": "code",
   "execution_count": null,
   "id": "8b1dac34-bace-4b0a-a346-ab3ca6c4842f",
   "metadata": {},
   "outputs": [],
   "source": []
  }
 ],
 "metadata": {
  "kernelspec": {
   "display_name": "sy09",
   "language": "python",
   "name": "sy09"
  },
  "language_info": {
   "codemirror_mode": {
    "name": "ipython",
    "version": 3
   },
   "file_extension": ".py",
   "mimetype": "text/x-python",
   "name": "python",
   "nbconvert_exporter": "python",
   "pygments_lexer": "ipython3",
   "version": "3.11.9"
  }
 },
 "nbformat": 4,
 "nbformat_minor": 5
}
